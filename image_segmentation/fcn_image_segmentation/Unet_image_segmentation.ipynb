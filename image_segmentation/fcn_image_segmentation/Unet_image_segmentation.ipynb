{
 "cells": [
  {
   "cell_type": "code",
   "execution_count": 1,
   "metadata": {},
   "outputs": [
    {
     "name": "stderr",
     "output_type": "stream",
     "text": [
      "Using TensorFlow backend.\n"
     ]
    }
   ],
   "source": [
    "import numpy as np \n",
    "import os\n",
    "# import skimage.io as io\n",
    "# import skimage.transform as trans\n",
    "from keras.models import *\n",
    "from keras.layers import *\n",
    "from keras.optimizers import *\n",
    "from keras.callbacks import ModelCheckpoint, LearningRateScheduler\n",
    "from keras import backend as keras\n",
    "from keras.utils.vis_utils import plot_model\n",
    "from keras.preprocessing.image import ImageDataGenerator\n",
    "import matplotlib.pyplot as plt\n",
    "import numpy as py\n",
    "\n",
    "import tensorflow as tf"
   ]
  },
  {
   "cell_type": "code",
   "execution_count": 2,
   "metadata": {},
   "outputs": [
    {
     "name": "stdout",
     "output_type": "stream",
     "text": [
      "(1, 2, 2, 3)\n",
      "[[[[3 2 4]\n",
      "   [4 5 1]]\n",
      "\n",
      "  [[7 3 5]\n",
      "   [4 5 9]]]]\n"
     ]
    }
   ],
   "source": [
    "# x = [[[3,2,4][4,5,1]]]\n",
    "x = np.array([[[[3,2,4],[4,5,1]], [[7,3,5],[4,5,9]]]])\n",
    "print(x.shape)\n",
    "print(x)"
   ]
  },
  {
   "cell_type": "code",
   "execution_count": 3,
   "metadata": {},
   "outputs": [
    {
     "name": "stdout",
     "output_type": "stream",
     "text": [
      "<class 'tensorflow.python.framework.ops.Tensor'>\n",
      "(1, 4, 4, 3)\n",
      "[[[[3. 2. 4.]\n",
      "   [3. 2. 4.]\n",
      "   [4. 5. 1.]\n",
      "   [4. 5. 1.]]\n",
      "\n",
      "  [[3. 2. 4.]\n",
      "   [3. 2. 4.]\n",
      "   [4. 5. 1.]\n",
      "   [4. 5. 1.]]\n",
      "\n",
      "  [[7. 3. 5.]\n",
      "   [7. 3. 5.]\n",
      "   [4. 5. 9.]\n",
      "   [4. 5. 9.]]\n",
      "\n",
      "  [[7. 3. 5.]\n",
      "   [7. 3. 5.]\n",
      "   [4. 5. 9.]\n",
      "   [4. 5. 9.]]]]\n"
     ]
    }
   ],
   "source": [
    "input_ = Input(shape=(2,2,3))\n",
    "\n",
    "o = UpSampling2D(size = (2,2))(input_)\n",
    "\n",
    "print(type(o))\n",
    "\n",
    "with tf.Session() as sess:\n",
    "    output = sess.run(o, feed_dict={input_:x})\n",
    "    print(output.shape)\n",
    "    print(output)"
   ]
  },
  {
   "cell_type": "code",
   "execution_count": 2,
   "metadata": {},
   "outputs": [],
   "source": [
    "def U_Net(input_size = (256,256,1)):\n",
    "    \n",
    "    inputs_ = Input(input_size)\n",
    "    \n",
    "    l_conv1_1 = Conv2D(64, 3, activation='relu', padding='same', kernel_initializer='he_normal', \n",
    "                     name='l_conv1_1')(inputs_)\n",
    "    l_conv1_2 = Conv2D(64, 3, activation='relu', padding='same', kernel_initializer='he_normal', \n",
    "                     name='l_conv1_2')(l_conv1_1)\n",
    "    l_max_pooling_1 = MaxPooling2D(pool_size=(2, 2), name='l_pooling1')(l_conv1_2)\n",
    "    # shape\n",
    "    \n",
    "    l_conv2_1 = Conv2D(128, 3, activation = 'relu', padding = 'same', kernel_initializer = 'he_normal', \n",
    "                     name='l_conv2_1')(l_max_pooling_1)\n",
    "    l_conv2_2 = Conv2D(128, 3, activation = 'relu', padding = 'same', kernel_initializer = 'he_normal', \n",
    "                     name='l_conv2_2')(l_conv2_1)\n",
    "    l_max_pooling_2 = MaxPooling2D(pool_size=(2, 2), name='l_pooling2')(l_conv2_2)\n",
    "    # shape\n",
    "    \n",
    "    l_conv3_1 = Conv2D(256, 3, activation = 'relu', padding = 'same', kernel_initializer = 'he_normal', \n",
    "                     name='l_conv3_1')(l_max_pooling_2)\n",
    "    l_conv3_2 = Conv2D(256, 3, activation = 'relu', padding = 'same', kernel_initializer = 'he_normal', \n",
    "                     name='l_conv3_2')(l_conv3_1)\n",
    "    l_max_pooling_3 = MaxPooling2D(pool_size=(2, 2), name='l_pooling3')(l_conv3_2)\n",
    "    # shape\n",
    "    \n",
    "    l_conv4_1 = Conv2D(512, 3, activation = 'relu', padding = 'same', kernel_initializer = 'he_normal', \n",
    "                     name='l_conv4_1')(l_max_pooling_3)\n",
    "    l_conv4_2 = Conv2D(512, 3, activation = 'relu', padding = 'same', kernel_initializer = 'he_normal', \n",
    "                     name='l_conv4_2')(l_conv4_1)\n",
    "    l_dropout4 = Dropout(0.5, name='l_conv4_dropout')(l_conv4_2)\n",
    "    l_max_pooling_4 = MaxPooling2D(pool_size=(2, 2), name='l_pooling4')(l_dropout4)\n",
    "\n",
    "    # shape\n",
    "    \n",
    "    ###\n",
    "    \n",
    "    c_conv_1 = Conv2D(1024, 3, activation = 'relu', padding = 'same', kernel_initializer = 'he_normal', \n",
    "                   name='c_conv_1')(l_max_pooling_4)\n",
    "    c_conv_2 = Conv2D(1024, 3, activation = 'relu', padding = 'same', kernel_initializer = 'he_normal', \n",
    "                   name='c_conv_2')(c_conv_1)\n",
    "    c_dropout = Dropout(0.5, name='c_conv_dropout')(c_conv_2)\n",
    "\n",
    "    ###\n",
    "    \n",
    "    # up-convolution 1\n",
    "    r_conv1_up_1 = UpSampling2D(size = (2,2), name='r_conv1_up_1')(c_dropout)\n",
    "    r_conv1_up_2 = Conv2D(512, 2, activation = 'relu', padding = 'same', kernel_initializer = 'he_normal', \n",
    "                                  name='r_conv1_up_2')(r_conv1_up_1)\n",
    "    r_concat1 = concatenate([l_dropout4, r_conv1_up_2], axis = 3, name='r_concat1')\n",
    "    r_conv1_2 = Conv2D(512, 3, activation = 'relu', padding = 'same', kernel_initializer = 'he_normal', \n",
    "                                  name='r_conv1_2')(r_concat1)\n",
    "    r_conv1_3 = Conv2D(512, 3, activation = 'relu', padding = 'same', kernel_initializer = 'he_normal', \n",
    "                                  name='r_conv1_3')(r_conv1_2)\n",
    "\n",
    "    # up-convolution 2\n",
    "    r_conv2_up_1 = UpSampling2D(size = (2,2), name='r_conv2_up_1')(r_conv1_3)\n",
    "    r_conv2_up_2 = Conv2D(256, 2, activation = 'relu', padding = 'same', kernel_initializer = 'he_normal', \n",
    "                                  name='r_conv2_up_2')(r_conv2_up_1)\n",
    "    r_concat2 = concatenate([l_conv3_2, r_conv2_up_2], axis = 3, name='r_concat2')\n",
    "    r_conv2_2 = Conv2D(256, 3, activation = 'relu', padding = 'same', kernel_initializer = 'he_normal', \n",
    "                                  name='r_conv2_2')(r_concat2)\n",
    "    r_conv2_3 = Conv2D(256, 3, activation = 'relu', padding = 'same', kernel_initializer = 'he_normal',\n",
    "                                  name='r_conv2_3')(r_conv2_2)\n",
    "\n",
    "    # up-convolution 3\n",
    "    r_conv3_up_1 = UpSampling2D(size = (2,2), name='r_conv3_up_1')(r_conv2_3)\n",
    "    r_conv3_up_2 = Conv2D(128, 2, activation = 'relu', padding = 'same', kernel_initializer = 'he_normal', \n",
    "                                  name='r_conv3_up_2')(r_conv3_up_1)\n",
    "    r_concat3 = concatenate([l_conv2_2, r_conv3_up_2], axis = 3, name='r_concat3')\n",
    "    r_conv3_2 = Conv2D(128, 3, activation = 'relu', padding = 'same', kernel_initializer = 'he_normal', \n",
    "                                  name='r_conv3_2')(r_concat3)\n",
    "    r_conv3_3 = Conv2D(128, 3, activation = 'relu', padding = 'same', kernel_initializer = 'he_normal', \n",
    "                                  name='r_conv3_3')(r_conv3_2)\n",
    "\n",
    "    # up-convolution 4\n",
    "    r_conv4_up_1 = UpSampling2D(size = (2,2), name='r_conv4_up_1')(r_conv3_3)\n",
    "    r_conv4_up_2 = Conv2D(64, 2, activation = 'relu', padding = 'same', kernel_initializer = 'he_normal', \n",
    "                                  name='r_conv4_up_2')(r_conv4_up_1)\n",
    "    r_concat4 = concatenate([l_conv1_2, r_conv4_up_2], axis = 3, name='r_concat4')\n",
    "    r_conv4_2 = Conv2D(64, 3, activation = 'relu', padding = 'same', kernel_initializer = 'he_normal', \n",
    "                                  name='r_conv4_2')(r_concat4)\n",
    "    r_conv4_3 = Conv2D(64, 3, activation = 'relu', padding = 'same', kernel_initializer = 'he_normal', \n",
    "                                  name='r_conv4_3')(r_conv4_2)\n",
    "    \n",
    "    \n",
    "    r_conv4_4 = Conv2D(2, 3, activation = 'relu', padding = 'same', kernel_initializer = 'he_normal', \n",
    "                                  name='r_conv4_4')(r_conv4_3)\n",
    "    r_conv4_5 = Conv2D(1, 1, activation = 'sigmoid', name='r_conv4_5')(r_conv4_4)\n",
    "\n",
    "    model = Model(inputs = inputs_, outputs = r_conv4_5)\n",
    "\n",
    "    model.compile(optimizer = Adam(lr = 1e-4), loss = 'binary_crossentropy', metrics = ['accuracy'])\n",
    "    \n",
    "    return model"
   ]
  },
  {
   "cell_type": "code",
   "execution_count": 3,
   "metadata": {},
   "outputs": [
    {
     "name": "stdout",
     "output_type": "stream",
     "text": [
      "__________________________________________________________________________________________________\n",
      "Layer (type)                    Output Shape         Param #     Connected to                     \n",
      "==================================================================================================\n",
      "input_1 (InputLayer)            (None, 256, 256, 1)  0                                            \n",
      "__________________________________________________________________________________________________\n",
      "l_conv1_1 (Conv2D)              (None, 256, 256, 64) 640         input_1[0][0]                    \n",
      "__________________________________________________________________________________________________\n",
      "l_conv1_2 (Conv2D)              (None, 256, 256, 64) 36928       l_conv1_1[0][0]                  \n",
      "__________________________________________________________________________________________________\n",
      "l_pooling1 (MaxPooling2D)       (None, 128, 128, 64) 0           l_conv1_2[0][0]                  \n",
      "__________________________________________________________________________________________________\n",
      "l_conv2_1 (Conv2D)              (None, 128, 128, 128 73856       l_pooling1[0][0]                 \n",
      "__________________________________________________________________________________________________\n",
      "l_conv2_2 (Conv2D)              (None, 128, 128, 128 147584      l_conv2_1[0][0]                  \n",
      "__________________________________________________________________________________________________\n",
      "l_pooling2 (MaxPooling2D)       (None, 64, 64, 128)  0           l_conv2_2[0][0]                  \n",
      "__________________________________________________________________________________________________\n",
      "l_conv3_1 (Conv2D)              (None, 64, 64, 256)  295168      l_pooling2[0][0]                 \n",
      "__________________________________________________________________________________________________\n",
      "l_conv3_2 (Conv2D)              (None, 64, 64, 256)  590080      l_conv3_1[0][0]                  \n",
      "__________________________________________________________________________________________________\n",
      "l_pooling3 (MaxPooling2D)       (None, 32, 32, 256)  0           l_conv3_2[0][0]                  \n",
      "__________________________________________________________________________________________________\n",
      "l_conv4_1 (Conv2D)              (None, 32, 32, 512)  1180160     l_pooling3[0][0]                 \n",
      "__________________________________________________________________________________________________\n",
      "l_conv4_2 (Conv2D)              (None, 32, 32, 512)  2359808     l_conv4_1[0][0]                  \n",
      "__________________________________________________________________________________________________\n",
      "l_conv4_dropout (Dropout)       (None, 32, 32, 512)  0           l_conv4_2[0][0]                  \n",
      "__________________________________________________________________________________________________\n",
      "l_pooling4 (MaxPooling2D)       (None, 16, 16, 512)  0           l_conv4_dropout[0][0]            \n",
      "__________________________________________________________________________________________________\n",
      "c_conv_1 (Conv2D)               (None, 16, 16, 1024) 4719616     l_pooling4[0][0]                 \n",
      "__________________________________________________________________________________________________\n",
      "c_conv_2 (Conv2D)               (None, 16, 16, 1024) 9438208     c_conv_1[0][0]                   \n",
      "__________________________________________________________________________________________________\n",
      "c_conv_dropout (Dropout)        (None, 16, 16, 1024) 0           c_conv_2[0][0]                   \n",
      "__________________________________________________________________________________________________\n",
      "r_conv1_up_1 (UpSampling2D)     (None, 32, 32, 1024) 0           c_conv_dropout[0][0]             \n",
      "__________________________________________________________________________________________________\n",
      "r_conv1_up_2 (Conv2D)           (None, 32, 32, 512)  2097664     r_conv1_up_1[0][0]               \n",
      "__________________________________________________________________________________________________\n",
      "r_concat1 (Concatenate)         (None, 32, 32, 1024) 0           l_conv4_dropout[0][0]            \n",
      "                                                                 r_conv1_up_2[0][0]               \n",
      "__________________________________________________________________________________________________\n",
      "r_conv1_2 (Conv2D)              (None, 32, 32, 512)  4719104     r_concat1[0][0]                  \n",
      "__________________________________________________________________________________________________\n",
      "r_conv1_3 (Conv2D)              (None, 32, 32, 512)  2359808     r_conv1_2[0][0]                  \n",
      "__________________________________________________________________________________________________\n",
      "r_conv2_up_1 (UpSampling2D)     (None, 64, 64, 512)  0           r_conv1_3[0][0]                  \n",
      "__________________________________________________________________________________________________\n",
      "r_conv2_up_2 (Conv2D)           (None, 64, 64, 256)  524544      r_conv2_up_1[0][0]               \n",
      "__________________________________________________________________________________________________\n",
      "r_concat2 (Concatenate)         (None, 64, 64, 512)  0           l_conv3_2[0][0]                  \n",
      "                                                                 r_conv2_up_2[0][0]               \n",
      "__________________________________________________________________________________________________\n",
      "r_conv2_2 (Conv2D)              (None, 64, 64, 256)  1179904     r_concat2[0][0]                  \n",
      "__________________________________________________________________________________________________\n",
      "r_conv2_3 (Conv2D)              (None, 64, 64, 256)  590080      r_conv2_2[0][0]                  \n",
      "__________________________________________________________________________________________________\n",
      "r_conv3_up_1 (UpSampling2D)     (None, 128, 128, 256 0           r_conv2_3[0][0]                  \n",
      "__________________________________________________________________________________________________\n",
      "r_conv3_up_2 (Conv2D)           (None, 128, 128, 128 131200      r_conv3_up_1[0][0]               \n",
      "__________________________________________________________________________________________________\n",
      "r_concat3 (Concatenate)         (None, 128, 128, 256 0           l_conv2_2[0][0]                  \n",
      "                                                                 r_conv3_up_2[0][0]               \n",
      "__________________________________________________________________________________________________\n",
      "r_conv3_2 (Conv2D)              (None, 128, 128, 128 295040      r_concat3[0][0]                  \n",
      "__________________________________________________________________________________________________\n",
      "r_conv3_3 (Conv2D)              (None, 128, 128, 128 147584      r_conv3_2[0][0]                  \n",
      "__________________________________________________________________________________________________\n",
      "r_conv4_up_1 (UpSampling2D)     (None, 256, 256, 128 0           r_conv3_3[0][0]                  \n",
      "__________________________________________________________________________________________________\n",
      "r_conv4_up_2 (Conv2D)           (None, 256, 256, 64) 32832       r_conv4_up_1[0][0]               \n",
      "__________________________________________________________________________________________________\n",
      "r_concat4 (Concatenate)         (None, 256, 256, 128 0           l_conv1_2[0][0]                  \n",
      "                                                                 r_conv4_up_2[0][0]               \n",
      "__________________________________________________________________________________________________\n",
      "r_conv4_2 (Conv2D)              (None, 256, 256, 64) 73792       r_concat4[0][0]                  \n",
      "__________________________________________________________________________________________________\n",
      "r_conv4_3 (Conv2D)              (None, 256, 256, 64) 36928       r_conv4_2[0][0]                  \n",
      "__________________________________________________________________________________________________\n",
      "r_conv4_4 (Conv2D)              (None, 256, 256, 2)  1154        r_conv4_3[0][0]                  \n",
      "__________________________________________________________________________________________________\n",
      "r_conv4_5 (Conv2D)              (None, 256, 256, 1)  3           r_conv4_4[0][0]                  \n",
      "==================================================================================================\n",
      "Total params: 31,031,685\n",
      "Trainable params: 31,031,685\n",
      "Non-trainable params: 0\n",
      "__________________________________________________________________________________________________\n"
     ]
    }
   ],
   "source": [
    "unet = U_Net()\n",
    "unet.summary()"
   ]
  },
  {
   "cell_type": "code",
   "execution_count": 6,
   "metadata": {},
   "outputs": [],
   "source": [
    "plot_model(unet, \n",
    "           to_file='./model_images/unet_model_1.png', \n",
    "           show_shapes=True, \n",
    "           show_layer_names=True)"
   ]
  },
  {
   "cell_type": "markdown",
   "metadata": {},
   "source": [
    "<img src='./model_images/unet_model_1.png', style='height:2400px'>"
   ]
  },
  {
   "cell_type": "code",
   "execution_count": 4,
   "metadata": {},
   "outputs": [],
   "source": [
    "def adjust_Data(image, label):\n",
    "    if np.max(image) > 1:\n",
    "        image = image/255\n",
    "        label = label/255\n",
    "        label[label > 0.5] = 1\n",
    "        label[label <= 0.5] = 0\n",
    "    return image, label"
   ]
  },
  {
   "cell_type": "code",
   "execution_count": 5,
   "metadata": {},
   "outputs": [],
   "source": [
    "def data_generator():\n",
    "    \n",
    "    data_gen_args = dict(rotation_range=20,\n",
    "                         width_shift_range=0.05,\n",
    "                         height_shift_range=0.05,\n",
    "                         shear_range=0.05,\n",
    "                         zoom_range=0.05,\n",
    "                         horizontal_flip=True,\n",
    "                         fill_mode='nearest')\n",
    "\n",
    "    file_path=\"data/membrane/train\"\n",
    "#     save_to = \"data/membrane/train/aug\"\n",
    "    image_color_mode = \"grayscale\"\n",
    "    label_color_mode = \"grayscale\"\n",
    "    image_folder=\"image\"\n",
    "    label_folder=\"label\"\n",
    "    target_size=(256, 256)\n",
    "    batch_size=2\n",
    "\n",
    "    # image_datagen = ImageDataGenerator()\n",
    "    image_datagen = ImageDataGenerator(**data_gen_args)\n",
    "    image_generator = image_datagen.flow_from_directory(directory = file_path,\n",
    "        classes = [image_folder],\n",
    "        class_mode = None,\n",
    "        color_mode = image_color_mode,\n",
    "        target_size = target_size,\n",
    "        batch_size = batch_size,\n",
    "    #     save_to_dir = save_to,\n",
    "    #     save_prefix = \"image\",\n",
    "        seed=1\n",
    "    )\n",
    "\n",
    "    label_datagen = ImageDataGenerator(**data_gen_args)\n",
    "    label_generator = label_datagen.flow_from_directory(directory = file_path,\n",
    "        classes = [label_folder],\n",
    "        class_mode = None,\n",
    "        color_mode = label_color_mode,\n",
    "        target_size = target_size,\n",
    "        batch_size = batch_size,\n",
    "    #     save_to_dir = save_to,\n",
    "    #     save_prefix = \"label\",\n",
    "        seed=1\n",
    "    )\n",
    "    \n",
    "#     for image in image_generator:\n",
    "#         plt.imshow(image[0][:, :, 0], cmap='gray')\n",
    "#         plt.show()\n",
    "    \n",
    "#     train_generator = zip(image_generator, label_generator)\n",
    "#     i = 0\n",
    "#     for (image, label) in train_generator:\n",
    "#         if i == 60:\n",
    "#             break\n",
    "#         image, label = adjust_Data(image, label)\n",
    "#         i+=1\n",
    "#         yield (image, label)   \n",
    "\n",
    "    train_generator = zip(image_generator, label_generator)\n",
    "    for (image, label) in train_generator:\n",
    "        img, lbl = adjust_Data(image, label)\n",
    "        yield (img, lbl)   "
   ]
  },
  {
   "cell_type": "code",
   "execution_count": 20,
   "metadata": {},
   "outputs": [
    {
     "name": "stdout",
     "output_type": "stream",
     "text": [
      "Found 30 images belonging to 1 classes.\n",
      "Found 30 images belonging to 1 classes.\n",
      "(256, 256, 1)\n",
      "(256, 256, 1)\n",
      "60\n",
      "60\n"
     ]
    }
   ],
   "source": [
    "train_data_generator = data_generator()\n",
    "\n",
    "train_data = []\n",
    "label_data = []\n",
    "for image, label in train_data_generator:\n",
    "    train_data.append(image[0])\n",
    "    label_data.append(label[0])\n",
    "\n",
    "print(train_data[0].shape)\n",
    "print(train_data[1].shape)\n",
    "print(len(train_data))\n",
    "print(len(label_data))"
   ]
  },
  {
   "cell_type": "code",
   "execution_count": 21,
   "metadata": {},
   "outputs": [
    {
     "name": "stdout",
     "output_type": "stream",
     "text": [
      "(60, 256, 256, 1)\n",
      "(60, 256, 256, 1)\n"
     ]
    }
   ],
   "source": [
    "train_data = np.asarray(train_data)\n",
    "label_data = np.asarray(label_data)\n",
    "\n",
    "print(train_data.shape)\n",
    "print(label_data.shape)"
   ]
  },
  {
   "cell_type": "code",
   "execution_count": 8,
   "metadata": {},
   "outputs": [
    {
     "name": "stderr",
     "output_type": "stream",
     "text": [
      "/Users/yankang/anaconda/envs/opencv/lib/python3.6/site-packages/ipykernel_launcher.py:22: UserWarning: The `merge` function is deprecated and will be removed after 08/2017. Use instead layers from `keras.layers.merge`, e.g. `add`, `concatenate`, etc.\n",
      "/Users/yankang/anaconda/envs/opencv/lib/python3.6/site-packages/keras/legacy/layers.py:465: UserWarning: The `Merge` layer is deprecated and will be removed after 08/2017. Use instead layers from `keras.layers.merge`, e.g. `add`, `concatenate`, etc.\n",
      "  name=name)\n",
      "/Users/yankang/anaconda/envs/opencv/lib/python3.6/site-packages/ipykernel_launcher.py:27: UserWarning: The `merge` function is deprecated and will be removed after 08/2017. Use instead layers from `keras.layers.merge`, e.g. `add`, `concatenate`, etc.\n",
      "/Users/yankang/anaconda/envs/opencv/lib/python3.6/site-packages/ipykernel_launcher.py:32: UserWarning: The `merge` function is deprecated and will be removed after 08/2017. Use instead layers from `keras.layers.merge`, e.g. `add`, `concatenate`, etc.\n",
      "/Users/yankang/anaconda/envs/opencv/lib/python3.6/site-packages/ipykernel_launcher.py:37: UserWarning: The `merge` function is deprecated and will be removed after 08/2017. Use instead layers from `keras.layers.merge`, e.g. `add`, `concatenate`, etc.\n",
      "/Users/yankang/anaconda/envs/opencv/lib/python3.6/site-packages/ipykernel_launcher.py:43: UserWarning: Update your `Model` call to the Keras 2 API: `Model(inputs=Tensor(\"in..., outputs=Tensor(\"co...)`\n"
     ]
    },
    {
     "name": "stdout",
     "output_type": "stream",
     "text": [
      "Epoch 1/1\n",
      "Found 30 images belonging to 1 classes.\n",
      "Found 30 images belonging to 1 classes.\n",
      "   2/2000 [..............................] - ETA: 10:47:23 - loss: 0.6944 - acc: 0.4959"
     ]
    },
    {
     "ename": "KeyboardInterrupt",
     "evalue": "",
     "output_type": "error",
     "traceback": [
      "\u001b[0;31m---------------------------------------------------------------------------\u001b[0m",
      "\u001b[0;31mKeyboardInterrupt\u001b[0m                         Traceback (most recent call last)",
      "\u001b[0;32m<ipython-input-8-eac3c6d43f8e>\u001b[0m in \u001b[0;36m<module>\u001b[0;34m()\u001b[0m\n\u001b[1;32m      5\u001b[0m \u001b[0;34m\u001b[0m\u001b[0m\n\u001b[1;32m      6\u001b[0m \u001b[0mmodel_checkpoint\u001b[0m \u001b[0;34m=\u001b[0m \u001b[0mModelCheckpoint\u001b[0m\u001b[0;34m(\u001b[0m\u001b[0;34m'unet_membrane.hdf5'\u001b[0m\u001b[0;34m,\u001b[0m \u001b[0mmonitor\u001b[0m\u001b[0;34m=\u001b[0m\u001b[0;34m'loss'\u001b[0m\u001b[0;34m,\u001b[0m\u001b[0mverbose\u001b[0m\u001b[0;34m=\u001b[0m\u001b[0;36m1\u001b[0m\u001b[0;34m,\u001b[0m \u001b[0msave_best_only\u001b[0m\u001b[0;34m=\u001b[0m\u001b[0;32mTrue\u001b[0m\u001b[0;34m)\u001b[0m\u001b[0;34m\u001b[0m\u001b[0m\n\u001b[0;32m----> 7\u001b[0;31m \u001b[0munet_model\u001b[0m\u001b[0;34m.\u001b[0m\u001b[0mfit_generator\u001b[0m\u001b[0;34m(\u001b[0m\u001b[0mtrain_data_generator\u001b[0m\u001b[0;34m,\u001b[0m\u001b[0msteps_per_epoch\u001b[0m\u001b[0;34m=\u001b[0m\u001b[0;36m2000\u001b[0m\u001b[0;34m,\u001b[0m\u001b[0mepochs\u001b[0m\u001b[0;34m=\u001b[0m\u001b[0;36m1\u001b[0m\u001b[0;34m,\u001b[0m\u001b[0mcallbacks\u001b[0m\u001b[0;34m=\u001b[0m\u001b[0;34m[\u001b[0m\u001b[0mmodel_checkpoint\u001b[0m\u001b[0;34m]\u001b[0m\u001b[0;34m,\u001b[0m \u001b[0mverbose\u001b[0m\u001b[0;34m=\u001b[0m\u001b[0;36m1\u001b[0m\u001b[0;34m)\u001b[0m\u001b[0;34m\u001b[0m\u001b[0m\n\u001b[0m\u001b[1;32m      8\u001b[0m \u001b[0;31m# unet_model.fit(x=train_data, y=label_data, batch_size=2, epochs=1, steps_per_epoch=2000, callbacks=[model_checkpoint],\u001b[0m\u001b[0;34m\u001b[0m\u001b[0;34m\u001b[0m\u001b[0m\n\u001b[1;32m      9\u001b[0m \u001b[0;31m#          validation_split=0.1)\u001b[0m\u001b[0;34m\u001b[0m\u001b[0;34m\u001b[0m\u001b[0m\n",
      "\u001b[0;32m~/anaconda/envs/opencv/lib/python3.6/site-packages/keras/legacy/interfaces.py\u001b[0m in \u001b[0;36mwrapper\u001b[0;34m(*args, **kwargs)\u001b[0m\n\u001b[1;32m     89\u001b[0m                 warnings.warn('Update your `' + object_name +\n\u001b[1;32m     90\u001b[0m                               '` call to the Keras 2 API: ' + signature, stacklevel=2)\n\u001b[0;32m---> 91\u001b[0;31m             \u001b[0;32mreturn\u001b[0m \u001b[0mfunc\u001b[0m\u001b[0;34m(\u001b[0m\u001b[0;34m*\u001b[0m\u001b[0margs\u001b[0m\u001b[0;34m,\u001b[0m \u001b[0;34m**\u001b[0m\u001b[0mkwargs\u001b[0m\u001b[0;34m)\u001b[0m\u001b[0;34m\u001b[0m\u001b[0m\n\u001b[0m\u001b[1;32m     92\u001b[0m         \u001b[0mwrapper\u001b[0m\u001b[0;34m.\u001b[0m\u001b[0m_original_function\u001b[0m \u001b[0;34m=\u001b[0m \u001b[0mfunc\u001b[0m\u001b[0;34m\u001b[0m\u001b[0m\n\u001b[1;32m     93\u001b[0m         \u001b[0;32mreturn\u001b[0m \u001b[0mwrapper\u001b[0m\u001b[0;34m\u001b[0m\u001b[0m\n",
      "\u001b[0;32m~/anaconda/envs/opencv/lib/python3.6/site-packages/keras/engine/training.py\u001b[0m in \u001b[0;36mfit_generator\u001b[0;34m(self, generator, steps_per_epoch, epochs, verbose, callbacks, validation_data, validation_steps, class_weight, max_queue_size, workers, use_multiprocessing, shuffle, initial_epoch)\u001b[0m\n\u001b[1;32m   2228\u001b[0m                     outs = self.train_on_batch(x, y,\n\u001b[1;32m   2229\u001b[0m                                                \u001b[0msample_weight\u001b[0m\u001b[0;34m=\u001b[0m\u001b[0msample_weight\u001b[0m\u001b[0;34m,\u001b[0m\u001b[0;34m\u001b[0m\u001b[0m\n\u001b[0;32m-> 2230\u001b[0;31m                                                class_weight=class_weight)\n\u001b[0m\u001b[1;32m   2231\u001b[0m \u001b[0;34m\u001b[0m\u001b[0m\n\u001b[1;32m   2232\u001b[0m                     \u001b[0;32mif\u001b[0m \u001b[0;32mnot\u001b[0m \u001b[0misinstance\u001b[0m\u001b[0;34m(\u001b[0m\u001b[0mouts\u001b[0m\u001b[0;34m,\u001b[0m \u001b[0mlist\u001b[0m\u001b[0;34m)\u001b[0m\u001b[0;34m:\u001b[0m\u001b[0;34m\u001b[0m\u001b[0m\n",
      "\u001b[0;32m~/anaconda/envs/opencv/lib/python3.6/site-packages/keras/engine/training.py\u001b[0m in \u001b[0;36mtrain_on_batch\u001b[0;34m(self, x, y, sample_weight, class_weight)\u001b[0m\n\u001b[1;32m   1881\u001b[0m             \u001b[0mins\u001b[0m \u001b[0;34m=\u001b[0m \u001b[0mx\u001b[0m \u001b[0;34m+\u001b[0m \u001b[0my\u001b[0m \u001b[0;34m+\u001b[0m \u001b[0msample_weights\u001b[0m\u001b[0;34m\u001b[0m\u001b[0m\n\u001b[1;32m   1882\u001b[0m         \u001b[0mself\u001b[0m\u001b[0;34m.\u001b[0m\u001b[0m_make_train_function\u001b[0m\u001b[0;34m(\u001b[0m\u001b[0;34m)\u001b[0m\u001b[0;34m\u001b[0m\u001b[0m\n\u001b[0;32m-> 1883\u001b[0;31m         \u001b[0moutputs\u001b[0m \u001b[0;34m=\u001b[0m \u001b[0mself\u001b[0m\u001b[0;34m.\u001b[0m\u001b[0mtrain_function\u001b[0m\u001b[0;34m(\u001b[0m\u001b[0mins\u001b[0m\u001b[0;34m)\u001b[0m\u001b[0;34m\u001b[0m\u001b[0m\n\u001b[0m\u001b[1;32m   1884\u001b[0m         \u001b[0;32mif\u001b[0m \u001b[0mlen\u001b[0m\u001b[0;34m(\u001b[0m\u001b[0moutputs\u001b[0m\u001b[0;34m)\u001b[0m \u001b[0;34m==\u001b[0m \u001b[0;36m1\u001b[0m\u001b[0;34m:\u001b[0m\u001b[0;34m\u001b[0m\u001b[0m\n\u001b[1;32m   1885\u001b[0m             \u001b[0;32mreturn\u001b[0m \u001b[0moutputs\u001b[0m\u001b[0;34m[\u001b[0m\u001b[0;36m0\u001b[0m\u001b[0;34m]\u001b[0m\u001b[0;34m\u001b[0m\u001b[0m\n",
      "\u001b[0;32m~/anaconda/envs/opencv/lib/python3.6/site-packages/keras/backend/tensorflow_backend.py\u001b[0m in \u001b[0;36m__call__\u001b[0;34m(self, inputs)\u001b[0m\n\u001b[1;32m   2480\u001b[0m         \u001b[0msession\u001b[0m \u001b[0;34m=\u001b[0m \u001b[0mget_session\u001b[0m\u001b[0;34m(\u001b[0m\u001b[0;34m)\u001b[0m\u001b[0;34m\u001b[0m\u001b[0m\n\u001b[1;32m   2481\u001b[0m         updated = session.run(fetches=fetches, feed_dict=feed_dict,\n\u001b[0;32m-> 2482\u001b[0;31m                               **self.session_kwargs)\n\u001b[0m\u001b[1;32m   2483\u001b[0m         \u001b[0;32mreturn\u001b[0m \u001b[0mupdated\u001b[0m\u001b[0;34m[\u001b[0m\u001b[0;34m:\u001b[0m\u001b[0mlen\u001b[0m\u001b[0;34m(\u001b[0m\u001b[0mself\u001b[0m\u001b[0;34m.\u001b[0m\u001b[0moutputs\u001b[0m\u001b[0;34m)\u001b[0m\u001b[0;34m]\u001b[0m\u001b[0;34m\u001b[0m\u001b[0m\n\u001b[1;32m   2484\u001b[0m \u001b[0;34m\u001b[0m\u001b[0m\n",
      "\u001b[0;32m~/anaconda/envs/opencv/lib/python3.6/site-packages/tensorflow/python/client/session.py\u001b[0m in \u001b[0;36mrun\u001b[0;34m(self, fetches, feed_dict, options, run_metadata)\u001b[0m\n\u001b[1;32m    898\u001b[0m     \u001b[0;32mtry\u001b[0m\u001b[0;34m:\u001b[0m\u001b[0;34m\u001b[0m\u001b[0m\n\u001b[1;32m    899\u001b[0m       result = self._run(None, fetches, feed_dict, options_ptr,\n\u001b[0;32m--> 900\u001b[0;31m                          run_metadata_ptr)\n\u001b[0m\u001b[1;32m    901\u001b[0m       \u001b[0;32mif\u001b[0m \u001b[0mrun_metadata\u001b[0m\u001b[0;34m:\u001b[0m\u001b[0;34m\u001b[0m\u001b[0m\n\u001b[1;32m    902\u001b[0m         \u001b[0mproto_data\u001b[0m \u001b[0;34m=\u001b[0m \u001b[0mtf_session\u001b[0m\u001b[0;34m.\u001b[0m\u001b[0mTF_GetBuffer\u001b[0m\u001b[0;34m(\u001b[0m\u001b[0mrun_metadata_ptr\u001b[0m\u001b[0;34m)\u001b[0m\u001b[0;34m\u001b[0m\u001b[0m\n",
      "\u001b[0;32m~/anaconda/envs/opencv/lib/python3.6/site-packages/tensorflow/python/client/session.py\u001b[0m in \u001b[0;36m_run\u001b[0;34m(self, handle, fetches, feed_dict, options, run_metadata)\u001b[0m\n\u001b[1;32m   1133\u001b[0m     \u001b[0;32mif\u001b[0m \u001b[0mfinal_fetches\u001b[0m \u001b[0;32mor\u001b[0m \u001b[0mfinal_targets\u001b[0m \u001b[0;32mor\u001b[0m \u001b[0;34m(\u001b[0m\u001b[0mhandle\u001b[0m \u001b[0;32mand\u001b[0m \u001b[0mfeed_dict_tensor\u001b[0m\u001b[0;34m)\u001b[0m\u001b[0;34m:\u001b[0m\u001b[0;34m\u001b[0m\u001b[0m\n\u001b[1;32m   1134\u001b[0m       results = self._do_run(handle, final_targets, final_fetches,\n\u001b[0;32m-> 1135\u001b[0;31m                              feed_dict_tensor, options, run_metadata)\n\u001b[0m\u001b[1;32m   1136\u001b[0m     \u001b[0;32melse\u001b[0m\u001b[0;34m:\u001b[0m\u001b[0;34m\u001b[0m\u001b[0m\n\u001b[1;32m   1137\u001b[0m       \u001b[0mresults\u001b[0m \u001b[0;34m=\u001b[0m \u001b[0;34m[\u001b[0m\u001b[0;34m]\u001b[0m\u001b[0;34m\u001b[0m\u001b[0m\n",
      "\u001b[0;32m~/anaconda/envs/opencv/lib/python3.6/site-packages/tensorflow/python/client/session.py\u001b[0m in \u001b[0;36m_do_run\u001b[0;34m(self, handle, target_list, fetch_list, feed_dict, options, run_metadata)\u001b[0m\n\u001b[1;32m   1314\u001b[0m     \u001b[0;32mif\u001b[0m \u001b[0mhandle\u001b[0m \u001b[0;32mis\u001b[0m \u001b[0;32mNone\u001b[0m\u001b[0;34m:\u001b[0m\u001b[0;34m\u001b[0m\u001b[0m\n\u001b[1;32m   1315\u001b[0m       return self._do_call(_run_fn, feeds, fetches, targets, options,\n\u001b[0;32m-> 1316\u001b[0;31m                            run_metadata)\n\u001b[0m\u001b[1;32m   1317\u001b[0m     \u001b[0;32melse\u001b[0m\u001b[0;34m:\u001b[0m\u001b[0;34m\u001b[0m\u001b[0m\n\u001b[1;32m   1318\u001b[0m       \u001b[0;32mreturn\u001b[0m \u001b[0mself\u001b[0m\u001b[0;34m.\u001b[0m\u001b[0m_do_call\u001b[0m\u001b[0;34m(\u001b[0m\u001b[0m_prun_fn\u001b[0m\u001b[0;34m,\u001b[0m \u001b[0mhandle\u001b[0m\u001b[0;34m,\u001b[0m \u001b[0mfeeds\u001b[0m\u001b[0;34m,\u001b[0m \u001b[0mfetches\u001b[0m\u001b[0;34m)\u001b[0m\u001b[0;34m\u001b[0m\u001b[0m\n",
      "\u001b[0;32m~/anaconda/envs/opencv/lib/python3.6/site-packages/tensorflow/python/client/session.py\u001b[0m in \u001b[0;36m_do_call\u001b[0;34m(self, fn, *args)\u001b[0m\n\u001b[1;32m   1320\u001b[0m   \u001b[0;32mdef\u001b[0m \u001b[0m_do_call\u001b[0m\u001b[0;34m(\u001b[0m\u001b[0mself\u001b[0m\u001b[0;34m,\u001b[0m \u001b[0mfn\u001b[0m\u001b[0;34m,\u001b[0m \u001b[0;34m*\u001b[0m\u001b[0margs\u001b[0m\u001b[0;34m)\u001b[0m\u001b[0;34m:\u001b[0m\u001b[0;34m\u001b[0m\u001b[0m\n\u001b[1;32m   1321\u001b[0m     \u001b[0;32mtry\u001b[0m\u001b[0;34m:\u001b[0m\u001b[0;34m\u001b[0m\u001b[0m\n\u001b[0;32m-> 1322\u001b[0;31m       \u001b[0;32mreturn\u001b[0m \u001b[0mfn\u001b[0m\u001b[0;34m(\u001b[0m\u001b[0;34m*\u001b[0m\u001b[0margs\u001b[0m\u001b[0;34m)\u001b[0m\u001b[0;34m\u001b[0m\u001b[0m\n\u001b[0m\u001b[1;32m   1323\u001b[0m     \u001b[0;32mexcept\u001b[0m \u001b[0merrors\u001b[0m\u001b[0;34m.\u001b[0m\u001b[0mOpError\u001b[0m \u001b[0;32mas\u001b[0m \u001b[0me\u001b[0m\u001b[0;34m:\u001b[0m\u001b[0;34m\u001b[0m\u001b[0m\n\u001b[1;32m   1324\u001b[0m       \u001b[0mmessage\u001b[0m \u001b[0;34m=\u001b[0m \u001b[0mcompat\u001b[0m\u001b[0;34m.\u001b[0m\u001b[0mas_text\u001b[0m\u001b[0;34m(\u001b[0m\u001b[0me\u001b[0m\u001b[0;34m.\u001b[0m\u001b[0mmessage\u001b[0m\u001b[0;34m)\u001b[0m\u001b[0;34m\u001b[0m\u001b[0m\n",
      "\u001b[0;32m~/anaconda/envs/opencv/lib/python3.6/site-packages/tensorflow/python/client/session.py\u001b[0m in \u001b[0;36m_run_fn\u001b[0;34m(feed_dict, fetch_list, target_list, options, run_metadata)\u001b[0m\n\u001b[1;32m   1305\u001b[0m       \u001b[0mself\u001b[0m\u001b[0;34m.\u001b[0m\u001b[0m_extend_graph\u001b[0m\u001b[0;34m(\u001b[0m\u001b[0;34m)\u001b[0m\u001b[0;34m\u001b[0m\u001b[0m\n\u001b[1;32m   1306\u001b[0m       return self._call_tf_sessionrun(\n\u001b[0;32m-> 1307\u001b[0;31m           options, feed_dict, fetch_list, target_list, run_metadata)\n\u001b[0m\u001b[1;32m   1308\u001b[0m \u001b[0;34m\u001b[0m\u001b[0m\n\u001b[1;32m   1309\u001b[0m     \u001b[0;32mdef\u001b[0m \u001b[0m_prun_fn\u001b[0m\u001b[0;34m(\u001b[0m\u001b[0mhandle\u001b[0m\u001b[0;34m,\u001b[0m \u001b[0mfeed_dict\u001b[0m\u001b[0;34m,\u001b[0m \u001b[0mfetch_list\u001b[0m\u001b[0;34m)\u001b[0m\u001b[0;34m:\u001b[0m\u001b[0;34m\u001b[0m\u001b[0m\n",
      "\u001b[0;32m~/anaconda/envs/opencv/lib/python3.6/site-packages/tensorflow/python/client/session.py\u001b[0m in \u001b[0;36m_call_tf_sessionrun\u001b[0;34m(self, options, feed_dict, fetch_list, target_list, run_metadata)\u001b[0m\n\u001b[1;32m   1407\u001b[0m       return tf_session.TF_SessionRun_wrapper(\n\u001b[1;32m   1408\u001b[0m           \u001b[0mself\u001b[0m\u001b[0;34m.\u001b[0m\u001b[0m_session\u001b[0m\u001b[0;34m,\u001b[0m \u001b[0moptions\u001b[0m\u001b[0;34m,\u001b[0m \u001b[0mfeed_dict\u001b[0m\u001b[0;34m,\u001b[0m \u001b[0mfetch_list\u001b[0m\u001b[0;34m,\u001b[0m \u001b[0mtarget_list\u001b[0m\u001b[0;34m,\u001b[0m\u001b[0;34m\u001b[0m\u001b[0m\n\u001b[0;32m-> 1409\u001b[0;31m           run_metadata)\n\u001b[0m\u001b[1;32m   1410\u001b[0m     \u001b[0;32melse\u001b[0m\u001b[0;34m:\u001b[0m\u001b[0;34m\u001b[0m\u001b[0m\n\u001b[1;32m   1411\u001b[0m       \u001b[0;32mwith\u001b[0m \u001b[0merrors\u001b[0m\u001b[0;34m.\u001b[0m\u001b[0mraise_exception_on_not_ok_status\u001b[0m\u001b[0;34m(\u001b[0m\u001b[0;34m)\u001b[0m \u001b[0;32mas\u001b[0m \u001b[0mstatus\u001b[0m\u001b[0;34m:\u001b[0m\u001b[0;34m\u001b[0m\u001b[0m\n",
      "\u001b[0;31mKeyboardInterrupt\u001b[0m: "
     ]
    }
   ],
   "source": [
    "# train_data_generator = data_generator()\n",
    "# \n",
    "train_data_generator = data_generator()\n",
    "unet_model = U_Net()\n",
    "\n",
    "model_checkpoint = ModelCheckpoint('unet_membrane.hdf5', monitor='loss',verbose=1, save_best_only=True)\n",
    "unet_model.fit_generator(train_data_generator,steps_per_epoch=2000,epochs=1,callbacks=[model_checkpoint], verbose=1)\n",
    "# unet_model.fit(x=train_data, y=label_data, batch_size=2, epochs=1, steps_per_epoch=2000, callbacks=[model_checkpoint], \n",
    "#          validation_split=0.1)"
   ]
  },
  {
   "cell_type": "markdown",
   "metadata": {},
   "source": [
    "## References\n",
    "\n",
    "1. [U-Net: Convolutional Networks for Biomedical Image Segmentation](https://arxiv.org/abs/1505.04597)"
   ]
  },
  {
   "cell_type": "code",
   "execution_count": null,
   "metadata": {},
   "outputs": [],
   "source": []
  }
 ],
 "metadata": {
  "kernelspec": {
   "display_name": "opencv",
   "language": "python",
   "name": "opencv"
  },
  "language_info": {
   "codemirror_mode": {
    "name": "ipython",
    "version": 3
   },
   "file_extension": ".py",
   "mimetype": "text/x-python",
   "name": "python",
   "nbconvert_exporter": "python",
   "pygments_lexer": "ipython3",
   "version": "3.6.5"
  }
 },
 "nbformat": 4,
 "nbformat_minor": 2
}
